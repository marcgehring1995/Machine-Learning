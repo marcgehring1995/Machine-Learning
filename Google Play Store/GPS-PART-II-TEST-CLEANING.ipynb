{
 "cells": [
  {
   "cell_type": "markdown",
   "metadata": {},
   "source": [
    "# This notebook is about making the Test Data workable and processable"
   ]
  },
  {
   "cell_type": "code",
   "execution_count": null,
   "metadata": {},
   "outputs": [],
   "source": [
    "# imports\n",
    "# I was trying a lot of different things during this notebook therefore there might be the one or two libaries which\n",
    "# arn´t needed anymore\n",
    "\n",
    "\n",
    "import requests                 # How Python gets the webpages\n",
    "from bs4 import BeautifulSoup   # Creates structured, searchable object\n",
    "import numpy as np\n",
    "import pandas as pd\n",
    "import matplotlib.pyplot as plt\n",
    "import json\n",
    "from pandas import ExcelWriter\n",
    "from pandas import ExcelFile\n",
    "from sklearn.svm import SVR\n",
    "from sklearn.linear_model import LinearRegression\n",
    "import matplotlib.pyplot as plt\n",
    "from matplotlib.ticker import NullFormatter \n",
    "\n",
    "import datetime as dt\n",
    "from datetime import date\n",
    "from scipy import stats\n",
    "#from pandas.core import datetools\n",
    "from plotly import tools\n",
    "import chart_studio.plotly as py\n",
    "import plotly.figure_factory as ff\n",
    "import plotly.tools as tls\n",
    "import plotly.graph_objs as go\n",
    "import warnings\n",
    "import seaborn as sns\n",
    "\n",
    "\n",
    "from sklearn.metrics import roc_curve\n",
    "from sklearn.metrics import roc_auc_score\n",
    "from sklearn import metrics \n",
    "from sklearn import preprocessing\n",
    "\n",
    "\n",
    "import json\n",
    "from time import sleep\n",
    "from datetime import datetime\n",
    "\n",
    "from plotly.offline import download_plotlyjs, init_notebook_mode, plot, iplot\n",
    "init_notebook_mode(connected=True)\n",
    "import matplotlib\n",
    "\n",
    "import numpy as np\n",
    "import matplotlib.pyplot as plt\n",
    "from matplotlib.colors import ListedColormap\n",
    "from sklearn.model_selection import train_test_split\n",
    "from sklearn.preprocessing import StandardScaler\n",
    "from sklearn.datasets import make_moons, make_circles, make_classification\n",
    "from sklearn.neural_network import MLPClassifier\n",
    "from sklearn.neighbors import KNeighborsClassifier\n",
    "from sklearn.svm import SVC\n",
    "from sklearn.gaussian_process import GaussianProcessClassifier\n",
    "from sklearn.gaussian_process.kernels import RBF\n",
    "from sklearn.tree import DecisionTreeClassifier\n",
    "from sklearn.ensemble import RandomForestClassifier, AdaBoostClassifier\n",
    "from sklearn.naive_bayes import GaussianNB\n",
    "from sklearn.discriminant_analysis import QuadraticDiscriminantAnalysis\n",
    "\n",
    "from sklearn.model_selection import learning_curve, GridSearchCV\n",
    "from sklearn.model_selection import cross_val_score\n",
    "from sklearn.metrics import classification_report, confusion_matrix # confusion matrix\n",
    "from sklearn import metrics\n",
    "\n",
    "import pandas as pd\n",
    "import numpy as np\n",
    "import xgboost as xgb\n",
    "from xgboost.sklearn import XGBClassifier\n",
    "from sklearn import  metrics   #Additional scklearn functions\n",
    "from sklearn.model_selection import GridSearchCV\n",
    "\n",
    "import matplotlib.pylab as plt\n",
    "%matplotlib inline\n",
    "from matplotlib.pylab import rcParams\n",
    "import gc"
   ]
  },
  {
   "cell_type": "code",
   "execution_count": 2,
   "metadata": {},
   "outputs": [],
   "source": [
    "from pylab import rcParams\n",
    "\n",
    "rcParams['figure.figsize'] = 30, 30\n",
    "rcParams['font.size'] = 20\n",
    "rcParams['axes.facecolor'] = 'white'\n",
    "\n",
    "%matplotlib inline\n",
    "\n",
    "warnings.filterwarnings(\"ignore\")\n",
    "\n",
    "# plt.style.available\n",
    "plt.style.use(\"seaborn-whitegrid\")"
   ]
  },
  {
   "cell_type": "code",
   "execution_count": 3,
   "metadata": {},
   "outputs": [],
   "source": [
    "#1  conda install -c anaconda lightgbm\n",
    "#   conda install -c conda-forge r-catboost\n",
    "\n",
    "# pip install lightgbm\n",
    "from sklearn import model_selection\n",
    "from sklearn.model_selection import train_test_split\n",
    "from sklearn.preprocessing import RobustScaler\n",
    "\n",
    "import lightgbm as lgb\n",
    "import xgboost as xgb\n",
    "#from catboost import CatBoostRegressor\n",
    "\n",
    "from IPython.display import display # Allows the use of display() for DataFrames\n",
    "\n",
    "import warnings\n",
    "warnings.filterwarnings('ignore')"
   ]
  },
  {
   "cell_type": "code",
   "execution_count": 234,
   "metadata": {},
   "outputs": [],
   "source": [
    "#data_train= pd.read_csv('/Users/marcgehring/Desktop/Massey IT/158333/notebooks/train_v2.csv', nrows = 100000)\n",
    "#data_test= pd.read_csv('/Users/marcgehring/Desktop/Massey IT/158333/notebooks/ga-customer-revenue-prediction/test_v2.csv')\n",
    "#sub = pd.read_csv('/Users/marcgehring/Desktop/Massey IT/158333/notebooks/ga-customer-revenue-prediction/sample_submission_v2.csv')"
   ]
  },
  {
   "cell_type": "raw",
   "metadata": {},
   "source": [
    "Loading in the Jason data:\n",
    "    https://www.kaggle.com/julian3833/1-quick-start-read-csv-and-flatten-json-fields\n",
    "    \n",
    "    \n",
    "Feauture importance:\n",
    "    https://www.kaggle.com/ogrellier/i-have-seen-the-future"
   ]
  },
  {
   "cell_type": "code",
   "execution_count": 3,
   "metadata": {},
   "outputs": [],
   "source": [
    "# importing the Jason Data\n",
    "import os\n",
    "import json\n",
    "import numpy as np\n",
    "import pandas as pd\n",
    "from pandas.io.json import json_normalize\n",
    "\n"
   ]
  },
  {
   "cell_type": "markdown",
   "metadata": {},
   "source": [
    "# Working with the first Dataset"
   ]
  },
  {
   "cell_type": "code",
   "execution_count": 255,
   "metadata": {},
   "outputs": [
    {
     "name": "stdout",
     "output_type": "stream",
     "text": [
      "Loaded train_v2.csv. Shape: (200000, 60)\n"
     ]
    }
   ],
   "source": [
    "# emplanaition: https://www.kaggle.com/kabure/exploring-the-consumer-patterns-ml-pipeline\n",
    "\n",
    "csv_path='/Users/marcgehring/Desktop/Massey IT/158333/notebooks/ga-customer-revenue-prediction/train_v2.csv'\n",
    "nrows=200000\n",
    "JSON_COLUMNS = ['device', 'geoNetwork', 'totals', 'trafficSource']\n",
    "    \n",
    "df = pd.read_csv(csv_path, converters={column: json.loads for column in JSON_COLUMNS}, \n",
    "                     dtype={'fullVisitorId': 'str'}, # Important!!\n",
    "                     nrows=nrows)\n",
    "    \n",
    "for column in JSON_COLUMNS:\n",
    "        column_as_df = json_normalize(df[column])\n",
    "        column_as_df.columns = [f\"{column}.{subcolumn}\" for subcolumn in column_as_df.columns]\n",
    "        df = df.drop(column, axis=1).merge(column_as_df, right_index=True, left_index=True)\n",
    "print(f\"Loaded {os.path.basename(csv_path)}. Shape: {df.shape}\")\n",
    "\n",
    "#print(os.listdir(\"../input\"))\n",
    "data_train = df  # this is our working file. So we can perform on data_train"
   ]
  },
  {
   "cell_type": "code",
   "execution_count": 4,
   "metadata": {},
   "outputs": [
    {
     "name": "stdout",
     "output_type": "stream",
     "text": [
      "Loaded test_v2.csv. Shape: (401589, 59)\n"
     ]
    }
   ],
   "source": [
    "# emplanaition: https://www.kaggle.com/kabure/exploring-the-consumer-patterns-ml-pipeline\n",
    "\n",
    "csv_path='/Users/marcgehring/Desktop/Massey IT/158333/notebooks/ga-customer-revenue-prediction/test_v2.csv'\n",
    "#nrows=300000\n",
    "JSON_COLUMNS = ['device', 'geoNetwork', 'totals', 'trafficSource']\n",
    "    \n",
    "df = pd.read_csv(csv_path, converters={column: json.loads for column in JSON_COLUMNS}, \n",
    "                     dtype={'fullVisitorId': 'str'}, # Important!!\n",
    "                     nrows= None,\n",
    "\n",
    "                )\n",
    "    \n",
    "for column in JSON_COLUMNS:\n",
    "        column_as_df = json_normalize(df[column])\n",
    "        column_as_df.columns = [f\"{column}.{subcolumn}\" for subcolumn in column_as_df.columns]\n",
    "        df = df.drop(column, axis=1).merge(column_as_df, right_index=True, left_index=True)\n",
    "print(f\"Loaded {os.path.basename(csv_path)}. Shape: {df.shape}\")\n",
    "\n",
    "#print(os.listdir(\"../input\"))\n",
    "data_test2 = df  # this is our working file. So we can perform on data_train"
   ]
  },
  {
   "cell_type": "code",
   "execution_count": 5,
   "metadata": {},
   "outputs": [
    {
     "data": {
      "text/plain": [
       "(401589, 50)"
      ]
     },
     "execution_count": 5,
     "metadata": {},
     "output_type": "execute_result"
    }
   ],
   "source": [
    "# zusätzlich muss das noch bei test gedroppt werden, da das optimierte bei tobi schon in train gedroppt wurde\n",
    "\n",
    "data_test2.drop(['totals.bounces', 'trafficSource.adContent',\n",
    "       'trafficSource.adwordsClickInfo.page',\n",
    "       'trafficSource.adwordsClickInfo.slot',\n",
    "       'trafficSource.adwordsClickInfo.gclId',\n",
    "       'trafficSource.adwordsClickInfo.adNetworkType',\n",
    "       'trafficSource.adwordsClickInfo.isVideoAd','hits','customDimensions'\n",
    "       ],     # 'trafficSource.campaignCode' hat er nicht gefunden\n",
    "       axis= 1, inplace = True)\n",
    "data_test2.shape"
   ]
  },
  {
   "cell_type": "markdown",
   "metadata": {},
   "source": [
    "# now encoding the big Dataset"
   ]
  },
  {
   "cell_type": "code",
   "execution_count": 13,
   "metadata": {},
   "outputs": [
    {
     "data": {
      "text/plain": [
       "Index(['channelGrouping', 'date', 'fullVisitorId', 'socialEngagementType',\n",
       "       'visitId', 'visitNumber', 'visitStartTime', 'device.browser',\n",
       "       'device.browserVersion', 'device.browserSize', 'device.operatingSystem',\n",
       "       'device.operatingSystemVersion', 'device.isMobile',\n",
       "       'device.mobileDeviceBranding', 'device.mobileDeviceModel',\n",
       "       'device.mobileInputSelector', 'device.mobileDeviceInfo',\n",
       "       'device.mobileDeviceMarketingName', 'device.flashVersion',\n",
       "       'device.language', 'device.screenColors', 'device.screenResolution',\n",
       "       'device.deviceCategory', 'geoNetwork.continent',\n",
       "       'geoNetwork.subContinent', 'geoNetwork.country', 'geoNetwork.region',\n",
       "       'geoNetwork.metro', 'geoNetwork.city', 'geoNetwork.cityId',\n",
       "       'geoNetwork.networkDomain', 'geoNetwork.latitude',\n",
       "       'geoNetwork.longitude', 'geoNetwork.networkLocation', 'totals.visits',\n",
       "       'totals.hits', 'totals.pageviews', 'totals.timeOnSite',\n",
       "       'totals.sessionQualityDim', 'totals.newVisits', 'totals.transactions',\n",
       "       'totals.transactionRevenue', 'totals.totalTransactionRevenue',\n",
       "       'trafficSource.referralPath', 'trafficSource.campaign',\n",
       "       'trafficSource.source', 'trafficSource.medium', 'trafficSource.keyword',\n",
       "       'trafficSource.isTrueDirect',\n",
       "       'trafficSource.adwordsClickInfo.criteriaParameters'],\n",
       "      dtype='object')"
      ]
     },
     "execution_count": 13,
     "metadata": {},
     "output_type": "execute_result"
    }
   ],
   "source": [
    "original_c =data_test2.columns\n",
    "original_c"
   ]
  },
  {
   "cell_type": "code",
   "execution_count": null,
   "metadata": {},
   "outputs": [],
   "source": []
  },
  {
   "cell_type": "code",
   "execution_count": 14,
   "metadata": {},
   "outputs": [],
   "source": [
    "train_RM = data_test2\n",
    "del data_test2"
   ]
  },
  {
   "cell_type": "code",
   "execution_count": 15,
   "metadata": {},
   "outputs": [],
   "source": [
    "for f in train_RM.columns:\n",
    "   # if f != 'total_transactionRevenue':\n",
    "        if train_RM[f].dtype=='float': \n",
    "            lbl = preprocessing.LabelEncoder()\n",
    "            lbl.fit(list(train_RM[f].values))\n",
    "            train_RM[f] = lbl.transform(list(train_RM[f].values))"
   ]
  },
  {
   "cell_type": "code",
   "execution_count": 16,
   "metadata": {},
   "outputs": [],
   "source": [
    "for f in train_RM.columns:\n",
    "   # if f != 'total_transactionRevenue':\n",
    "        if train_RM[f].dtype=='str': \n",
    "            lbl = preprocessing.LabelEncoder()\n",
    "            lbl.fit(list(train_RM[f].values))\n",
    "            train_RM[f] = lbl.transform(list(train_RM[f].values))"
   ]
  },
  {
   "cell_type": "code",
   "execution_count": 22,
   "metadata": {},
   "outputs": [
    {
     "data": {
      "text/html": [
       "<div>\n",
       "<style scoped>\n",
       "    .dataframe tbody tr th:only-of-type {\n",
       "        vertical-align: middle;\n",
       "    }\n",
       "\n",
       "    .dataframe tbody tr th {\n",
       "        vertical-align: top;\n",
       "    }\n",
       "\n",
       "    .dataframe thead th {\n",
       "        text-align: right;\n",
       "    }\n",
       "</style>\n",
       "<table border=\"1\" class=\"dataframe\">\n",
       "  <thead>\n",
       "    <tr style=\"text-align: right;\">\n",
       "      <th></th>\n",
       "      <th>channelGrouping</th>\n",
       "      <th>date</th>\n",
       "      <th>fullVisitorId</th>\n",
       "      <th>socialEngagementType</th>\n",
       "      <th>visitId</th>\n",
       "      <th>visitNumber</th>\n",
       "      <th>visitStartTime</th>\n",
       "      <th>device.browser</th>\n",
       "      <th>device.browserVersion</th>\n",
       "      <th>device.browserSize</th>\n",
       "      <th>...</th>\n",
       "      <th>totals.newVisits</th>\n",
       "      <th>totals.transactions</th>\n",
       "      <th>totals.transactionRevenue</th>\n",
       "      <th>totals.totalTransactionRevenue</th>\n",
       "      <th>trafficSource.referralPath</th>\n",
       "      <th>trafficSource.campaign</th>\n",
       "      <th>trafficSource.source</th>\n",
       "      <th>trafficSource.medium</th>\n",
       "      <th>trafficSource.keyword</th>\n",
       "      <th>trafficSource.isTrueDirect</th>\n",
       "    </tr>\n",
       "  </thead>\n",
       "  <tbody>\n",
       "    <tr>\n",
       "      <td>0</td>\n",
       "      <td>4</td>\n",
       "      <td>20180511</td>\n",
       "      <td>221056</td>\n",
       "      <td>0</td>\n",
       "      <td>1526099341</td>\n",
       "      <td>2</td>\n",
       "      <td>1526099341</td>\n",
       "      <td>25</td>\n",
       "      <td>0</td>\n",
       "      <td>0</td>\n",
       "      <td>...</td>\n",
       "      <td>1</td>\n",
       "      <td>7</td>\n",
       "      <td>1950</td>\n",
       "      <td>2461</td>\n",
       "      <td>0</td>\n",
       "      <td>3</td>\n",
       "      <td>62</td>\n",
       "      <td>5</td>\n",
       "      <td>2</td>\n",
       "      <td>True</td>\n",
       "    </tr>\n",
       "  </tbody>\n",
       "</table>\n",
       "<p>1 rows × 49 columns</p>\n",
       "</div>"
      ],
      "text/plain": [
       "   channelGrouping      date  fullVisitorId  socialEngagementType     visitId  \\\n",
       "0                4  20180511         221056                     0  1526099341   \n",
       "\n",
       "   visitNumber  visitStartTime  device.browser  device.browserVersion  \\\n",
       "0            2      1526099341              25                      0   \n",
       "\n",
       "   device.browserSize  ...  totals.newVisits  totals.transactions  \\\n",
       "0                   0  ...                 1                    7   \n",
       "\n",
       "   totals.transactionRevenue  totals.totalTransactionRevenue  \\\n",
       "0                       1950                            2461   \n",
       "\n",
       "   trafficSource.referralPath  trafficSource.campaign  trafficSource.source  \\\n",
       "0                           0                       3                    62   \n",
       "\n",
       "   trafficSource.medium  trafficSource.keyword  trafficSource.isTrueDirect  \n",
       "0                     5                      2                        True  \n",
       "\n",
       "[1 rows x 49 columns]"
      ]
     },
     "execution_count": 22,
     "metadata": {},
     "output_type": "execute_result"
    }
   ],
   "source": [
    "train_RM.drop('trafficSource.adwordsClickInfo.criteriaParameters',inplace=True, axis=1)\n",
    "train_RM.head(1)"
   ]
  },
  {
   "cell_type": "code",
   "execution_count": 23,
   "metadata": {},
   "outputs": [
    {
     "name": "stdout",
     "output_type": "stream",
     "text": [
      "[IterativeImputer] Completing matrix with shape (401589, 49)\n",
      "[IterativeImputer] Ending imputation round 1/10, elapsed time 1.95\n",
      "[IterativeImputer] Early stopping criterion reached.\n",
      "[IterativeImputer] Completing matrix with shape (401589, 49)\n",
      "[IterativeImputer] Ending imputation round 1/1, elapsed time 0.03\n"
     ]
    }
   ],
   "source": [
    "# idea f rom thissource: https://scikit-learn.org/stable/modules/generated/sklearn.impute.SimpleImputer.html\n",
    "import numpy as np\n",
    "from sklearn.experimental import enable_iterative_imputer\n",
    "from sklearn.impute import IterativeImputer\n",
    "\n",
    "from sklearn.impute import SimpleImputer\n",
    "from sklearn.impute import IterativeImputer\n",
    "from sklearn.linear_model import BayesianRidge\n",
    "from sklearn.tree import DecisionTreeRegressor\n",
    "from sklearn.ensemble import ExtraTreesRegressor\n",
    "from sklearn.neighbors import KNeighborsRegressor\n",
    "\n",
    " # estimators: BayesianRidge(), DecisionTreeRegressor(max_features='sqrt', random_state=0), \n",
    " # ExtraTreesRegressor(n_estimators=10, random_state=0),\n",
    " # KNeighborsRegressor(n_neighbors=15)\n",
    "\n",
    "imp = IterativeImputer(estimator = BayesianRidge(), \n",
    "                       missing_values=np.nan, \n",
    "                       sample_posterior=False, \n",
    "                       max_iter=10, \n",
    "                       tol=0.001, \n",
    "                       n_nearest_features=10, # amount of features,\n",
    "                       imputation_order = 'ascending',\n",
    "                       min_value = None,\n",
    "                       max_value = None, \n",
    "                       verbose = 2, # controls the debug messages \n",
    "                       random_state = None,\n",
    "                       add_indicator = True,\n",
    "                       initial_strategy='mean')\n",
    "imp.fit(train_RM)\n",
    "train_RM = pd.DataFrame(data=imp.transform(train_RM),\n",
    "                             dtype='int')"
   ]
  },
  {
   "cell_type": "code",
   "execution_count": 24,
   "metadata": {},
   "outputs": [],
   "source": [
    "for f in train_RM.columns:\n",
    "    #if f != 'total_transactionRevenue':\n",
    "        if train_RM[f].dtype=='object': \n",
    "            lbl = preprocessing.LabelEncoder()\n",
    "            lbl.fit(list(train_RM[f].values))\n",
    "            train_RM[f] = lbl.transform(list(train_RM[f].values))"
   ]
  },
  {
   "cell_type": "code",
   "execution_count": 25,
   "metadata": {},
   "outputs": [
    {
     "data": {
      "text/html": [
       "<div>\n",
       "<style scoped>\n",
       "    .dataframe tbody tr th:only-of-type {\n",
       "        vertical-align: middle;\n",
       "    }\n",
       "\n",
       "    .dataframe tbody tr th {\n",
       "        vertical-align: top;\n",
       "    }\n",
       "\n",
       "    .dataframe thead th {\n",
       "        text-align: right;\n",
       "    }\n",
       "</style>\n",
       "<table border=\"1\" class=\"dataframe\">\n",
       "  <thead>\n",
       "    <tr style=\"text-align: right;\">\n",
       "      <th></th>\n",
       "      <th>0</th>\n",
       "      <th>1</th>\n",
       "      <th>2</th>\n",
       "      <th>3</th>\n",
       "      <th>4</th>\n",
       "      <th>5</th>\n",
       "      <th>6</th>\n",
       "      <th>7</th>\n",
       "      <th>8</th>\n",
       "      <th>9</th>\n",
       "      <th>...</th>\n",
       "      <th>40</th>\n",
       "      <th>41</th>\n",
       "      <th>42</th>\n",
       "      <th>43</th>\n",
       "      <th>44</th>\n",
       "      <th>45</th>\n",
       "      <th>46</th>\n",
       "      <th>47</th>\n",
       "      <th>48</th>\n",
       "      <th>49</th>\n",
       "    </tr>\n",
       "  </thead>\n",
       "  <tbody>\n",
       "    <tr>\n",
       "      <td>0</td>\n",
       "      <td>4</td>\n",
       "      <td>20180511</td>\n",
       "      <td>221056</td>\n",
       "      <td>0</td>\n",
       "      <td>1526099341</td>\n",
       "      <td>2</td>\n",
       "      <td>1526099341</td>\n",
       "      <td>25</td>\n",
       "      <td>0</td>\n",
       "      <td>0</td>\n",
       "      <td>...</td>\n",
       "      <td>7</td>\n",
       "      <td>1950</td>\n",
       "      <td>2461</td>\n",
       "      <td>0</td>\n",
       "      <td>3</td>\n",
       "      <td>62</td>\n",
       "      <td>5</td>\n",
       "      <td>2</td>\n",
       "      <td>1</td>\n",
       "      <td>0</td>\n",
       "    </tr>\n",
       "  </tbody>\n",
       "</table>\n",
       "<p>1 rows × 50 columns</p>\n",
       "</div>"
      ],
      "text/plain": [
       "   0         1       2   3           4   5           6   7   8   9   ...  40  \\\n",
       "0   4  20180511  221056   0  1526099341   2  1526099341  25   0   0  ...   7   \n",
       "\n",
       "     41    42  43  44  45  46  47  48  49  \n",
       "0  1950  2461   0   3  62   5   2   1   0  \n",
       "\n",
       "[1 rows x 50 columns]"
      ]
     },
     "execution_count": 25,
     "metadata": {},
     "output_type": "execute_result"
    }
   ],
   "source": [
    "train_RM.head(1)"
   ]
  },
  {
   "cell_type": "code",
   "execution_count": 27,
   "metadata": {},
   "outputs": [
    {
     "data": {
      "text/plain": [
       "50"
      ]
     },
     "execution_count": 27,
     "metadata": {},
     "output_type": "execute_result"
    }
   ],
   "source": [
    "train_RM.\n",
    "len(original_c)"
   ]
  },
  {
   "cell_type": "code",
   "execution_count": null,
   "metadata": {},
   "outputs": [],
   "source": [
    "train_RM.drop(51, axis=1, inplace = True)\n",
    "train_RM.drop(52, axis=1, inplace = True)\n",
    "train_RM.drop(53, axis=1, inplace = True)"
   ]
  },
  {
   "cell_type": "code",
   "execution_count": 28,
   "metadata": {},
   "outputs": [],
   "source": [
    "namesList = original_c"
   ]
  },
  {
   "cell_type": "code",
   "execution_count": 29,
   "metadata": {},
   "outputs": [],
   "source": [
    "train_RM.columns = namesList"
   ]
  },
  {
   "cell_type": "code",
   "execution_count": 31,
   "metadata": {},
   "outputs": [
    {
     "name": "stdout",
     "output_type": "stream",
     "text": [
      "<class 'pandas.core.frame.DataFrame'>\n",
      "RangeIndex: 401589 entries, 0 to 401588\n",
      "Data columns (total 50 columns):\n",
      "channelGrouping                                      401589 non-null int64\n",
      "date                                                 401589 non-null int64\n",
      "fullVisitorId                                        401589 non-null int64\n",
      "socialEngagementType                                 401589 non-null int64\n",
      "visitId                                              401589 non-null int64\n",
      "visitNumber                                          401589 non-null int64\n",
      "visitStartTime                                       401589 non-null int64\n",
      "device.browser                                       401589 non-null int64\n",
      "device.browserVersion                                401589 non-null int64\n",
      "device.browserSize                                   401589 non-null int64\n",
      "device.operatingSystem                               401589 non-null int64\n",
      "device.operatingSystemVersion                        401589 non-null int64\n",
      "device.isMobile                                      401589 non-null int64\n",
      "device.mobileDeviceBranding                          401589 non-null int64\n",
      "device.mobileDeviceModel                             401589 non-null int64\n",
      "device.mobileInputSelector                           401589 non-null int64\n",
      "device.mobileDeviceInfo                              401589 non-null int64\n",
      "device.mobileDeviceMarketingName                     401589 non-null int64\n",
      "device.flashVersion                                  401589 non-null int64\n",
      "device.language                                      401589 non-null int64\n",
      "device.screenColors                                  401589 non-null int64\n",
      "device.screenResolution                              401589 non-null int64\n",
      "device.deviceCategory                                401589 non-null int64\n",
      "geoNetwork.continent                                 401589 non-null int64\n",
      "geoNetwork.subContinent                              401589 non-null int64\n",
      "geoNetwork.country                                   401589 non-null int64\n",
      "geoNetwork.region                                    401589 non-null int64\n",
      "geoNetwork.metro                                     401589 non-null int64\n",
      "geoNetwork.city                                      401589 non-null int64\n",
      "geoNetwork.cityId                                    401589 non-null int64\n",
      "geoNetwork.networkDomain                             401589 non-null int64\n",
      "geoNetwork.latitude                                  401589 non-null int64\n",
      "geoNetwork.longitude                                 401589 non-null int64\n",
      "geoNetwork.networkLocation                           401589 non-null int64\n",
      "totals.visits                                        401589 non-null int64\n",
      "totals.hits                                          401589 non-null int64\n",
      "totals.pageviews                                     401589 non-null int64\n",
      "totals.timeOnSite                                    401589 non-null int64\n",
      "totals.sessionQualityDim                             401589 non-null int64\n",
      "totals.newVisits                                     401589 non-null int64\n",
      "totals.transactions                                  401589 non-null int64\n",
      "totals.transactionRevenue                            401589 non-null int64\n",
      "totals.totalTransactionRevenue                       401589 non-null int64\n",
      "trafficSource.referralPath                           401589 non-null int64\n",
      "trafficSource.campaign                               401589 non-null int64\n",
      "trafficSource.source                                 401589 non-null int64\n",
      "trafficSource.medium                                 401589 non-null int64\n",
      "trafficSource.keyword                                401589 non-null int64\n",
      "trafficSource.isTrueDirect                           401589 non-null int64\n",
      "trafficSource.adwordsClickInfo.criteriaParameters    401589 non-null int64\n",
      "dtypes: int64(50)\n",
      "memory usage: 153.2 MB\n"
     ]
    }
   ],
   "source": [
    "train_RM.info()"
   ]
  },
  {
   "cell_type": "code",
   "execution_count": 10,
   "metadata": {},
   "outputs": [],
   "source": [
    "data_test2.to_csv('Google_jason_cleaned_data_test_full_final.csv')\n"
   ]
  }
 ],
 "metadata": {
  "kernelspec": {
   "display_name": "Python 3",
   "language": "python",
   "name": "python3"
  },
  "language_info": {
   "codemirror_mode": {
    "name": "ipython",
    "version": 3
   },
   "file_extension": ".py",
   "mimetype": "text/x-python",
   "name": "python",
   "nbconvert_exporter": "python",
   "pygments_lexer": "ipython3",
   "version": "3.7.1"
  }
 },
 "nbformat": 4,
 "nbformat_minor": 2
}
